{
 "cells": [
  {
   "cell_type": "code",
   "execution_count": 1,
   "metadata": {},
   "outputs": [],
   "source": [
    "import turicreate as tc\n",
    "import matplotlib.pyplot as plt"
   ]
  },
  {
   "cell_type": "code",
   "execution_count": 2,
   "metadata": {},
   "outputs": [
    {
     "data": {
      "text/plain": [
       "4838"
      ]
     },
     "execution_count": 2,
     "metadata": {},
     "output_type": "execute_result"
    }
   ],
   "source": [
    "train_data = tc.image_analysis.load_images(\"snacks/train\", with_path=True)\n",
    "len(train_data)"
   ]
  },
  {
   "cell_type": "code",
   "execution_count": 3,
   "metadata": {},
   "outputs": [
    {
     "data": {
      "text/plain": [
       "952"
      ]
     },
     "execution_count": 3,
     "metadata": {},
     "output_type": "execute_result"
    }
   ],
   "source": [
    "test_data = tc.image_analysis.load_images(\"snacks/test\", with_path=True)\n",
    "len(test_data)"
   ]
  },
  {
   "cell_type": "code",
   "execution_count": 4,
   "metadata": {},
   "outputs": [
    {
     "name": "stdout",
     "output_type": "stream",
     "text": [
      "+------------+-------+\n",
      "|   value    | count |\n",
      "+------------+-------+\n",
      "| pineapple  |  260  |\n",
      "|   juice    |  250  |\n",
      "|   banana   |  250  |\n",
      "|   apple    |  250  |\n",
      "|  doughnut  |  250  |\n",
      "| watermelon |  250  |\n",
      "|   waffle   |  250  |\n",
      "|   muffin   |  250  |\n",
      "|   salad    |  250  |\n",
      "| ice cream  |  250  |\n",
      "|  hot dog   |  250  |\n",
      "|   grape    |  250  |\n",
      "|   carrot   |  249  |\n",
      "|    cake    |  249  |\n",
      "|   cookie   |  249  |\n",
      "|   orange   |  249  |\n",
      "|   candy    |  249  |\n",
      "| strawberry |  249  |\n",
      "|  popcorn   |  180  |\n",
      "|  pretzel   |  154  |\n",
      "+------------+-------+\n",
      "[20 rows x 2 columns]\n",
      "\n",
      "+------------+-------+\n",
      "|   value    | count |\n",
      "+------------+-------+\n",
      "|  hot dog   |   50  |\n",
      "|   juice    |   50  |\n",
      "|   banana   |   50  |\n",
      "|   orange   |   50  |\n",
      "|   cookie   |   50  |\n",
      "|   carrot   |   50  |\n",
      "|   waffle   |   50  |\n",
      "|    cake    |   50  |\n",
      "|   salad    |   50  |\n",
      "| ice cream  |   50  |\n",
      "|   candy    |   50  |\n",
      "|   grape    |   50  |\n",
      "| watermelon |   50  |\n",
      "|   apple    |   50  |\n",
      "|  doughnut  |   50  |\n",
      "| strawberry |   49  |\n",
      "|   muffin   |   48  |\n",
      "|  popcorn   |   40  |\n",
      "| pineapple  |   40  |\n",
      "|  pretzel   |   25  |\n",
      "+------------+-------+\n",
      "[20 rows x 2 columns]\n",
      "\n"
     ]
    }
   ],
   "source": [
    "import os\n",
    "train_data[\"label\"] = train_data[\"path\"].apply(lambda path: \n",
    "                                               os.path.basename(os.path.split(path)[0]))\n",
    "test_data[\"label\"] = test_data[\"path\"].apply(lambda path: \n",
    "                                             os.path.basename(os.path.split(path)[0]))\n",
    "train_data[\"label\"].value_counts().print_rows(num_rows=20)\n",
    "test_data[\"label\"].value_counts().print_rows(num_rows=20)"
   ]
  },
  {
   "cell_type": "markdown",
   "metadata": {},
   "source": [
    "Run the next cell to train the model.\n",
    "\n",
    "**OR**\n",
    "\n",
    "Run the cell **after** the next cell, to load the model from the `starter/notebook` folder."
   ]
  },
  {
   "cell_type": "code",
   "execution_count": null,
   "metadata": {},
   "outputs": [
    {
     "data": {
      "text/html": [
       "<pre>Downloading base mlmodel</pre>"
      ],
      "text/plain": [
       "Downloading base mlmodel"
      ]
     },
     "metadata": {},
     "output_type": "display_data"
    },
    {
     "data": {
      "text/html": [
       "<pre>Downloading https://docs-assets.developer.apple.com/coreml/models/SqueezeNet.mlmodel to /var/folders/df/0cj0n60d69qdynkhj5vy3h8m0000gn/T/model_cache/squeezenet_v1.1.mlmodel</pre>"
      ],
      "text/plain": [
       "Downloading https://docs-assets.developer.apple.com/coreml/models/SqueezeNet.mlmodel to /var/folders/df/0cj0n60d69qdynkhj5vy3h8m0000gn/T/model_cache/squeezenet_v1.1.mlmodel"
      ]
     },
     "metadata": {},
     "output_type": "display_data"
    },
    {
     "data": {
      "text/html": [
       "<pre>Using GPU (Intel(R) Iris(TM) Plus Graphics 645) to extract features.</pre>"
      ],
      "text/plain": [
       "Using GPU (Intel(R) Iris(TM) Plus Graphics 645) to extract features."
      ]
     },
     "metadata": {},
     "output_type": "display_data"
    },
    {
     "data": {
      "text/html": [
       "<pre>Analyzing and extracting image features.</pre>"
      ],
      "text/plain": [
       "Analyzing and extracting image features."
      ]
     },
     "metadata": {},
     "output_type": "display_data"
    },
    {
     "data": {
      "text/html": [
       "<pre>+------------------+--------------+------------------+</pre>"
      ],
      "text/plain": [
       "+------------------+--------------+------------------+"
      ]
     },
     "metadata": {},
     "output_type": "display_data"
    },
    {
     "data": {
      "text/html": [
       "<pre>| Images Processed | Elapsed Time | Percent Complete |</pre>"
      ],
      "text/plain": [
       "| Images Processed | Elapsed Time | Percent Complete |"
      ]
     },
     "metadata": {},
     "output_type": "display_data"
    },
    {
     "data": {
      "text/html": [
       "<pre>+------------------+--------------+------------------+</pre>"
      ],
      "text/plain": [
       "+------------------+--------------+------------------+"
      ]
     },
     "metadata": {},
     "output_type": "display_data"
    },
    {
     "data": {
      "text/html": [
       "<pre>| 64               | 560.178ms    | 1.25%            |</pre>"
      ],
      "text/plain": [
       "| 64               | 560.178ms    | 1.25%            |"
      ]
     },
     "metadata": {},
     "output_type": "display_data"
    },
    {
     "data": {
      "text/html": [
       "<pre>| 128              | 804.366ms    | 2.5%             |</pre>"
      ],
      "text/plain": [
       "| 128              | 804.366ms    | 2.5%             |"
      ]
     },
     "metadata": {},
     "output_type": "display_data"
    },
    {
     "data": {
      "text/html": [
       "<pre>| 192              | 1.04s        | 3.75%            |</pre>"
      ],
      "text/plain": [
       "| 192              | 1.04s        | 3.75%            |"
      ]
     },
     "metadata": {},
     "output_type": "display_data"
    },
    {
     "data": {
      "text/html": [
       "<pre>| 256              | 1.29s        | 5.25%            |</pre>"
      ],
      "text/plain": [
       "| 256              | 1.29s        | 5.25%            |"
      ]
     },
     "metadata": {},
     "output_type": "display_data"
    },
    {
     "data": {
      "text/html": [
       "<pre>| 320              | 1.53s        | 6.5%             |</pre>"
      ],
      "text/plain": [
       "| 320              | 1.53s        | 6.5%             |"
      ]
     },
     "metadata": {},
     "output_type": "display_data"
    },
    {
     "data": {
      "text/html": [
       "<pre>| 640              | 2.74s        | 13%              |</pre>"
      ],
      "text/plain": [
       "| 640              | 2.74s        | 13%              |"
      ]
     },
     "metadata": {},
     "output_type": "display_data"
    },
    {
     "data": {
      "text/html": [
       "<pre>| 1600             | 6.33s        | 32.75%           |</pre>"
      ],
      "text/plain": [
       "| 1600             | 6.33s        | 32.75%           |"
      ]
     },
     "metadata": {},
     "output_type": "display_data"
    },
    {
     "data": {
      "text/html": [
       "<pre>| 3200             | 12.33s       | 65.75%           |</pre>"
      ],
      "text/plain": [
       "| 3200             | 12.33s       | 65.75%           |"
      ]
     },
     "metadata": {},
     "output_type": "display_data"
    },
    {
     "data": {
      "text/html": [
       "<pre>| 4800             | 18.63s       | 98.5%            |</pre>"
      ],
      "text/plain": [
       "| 4800             | 18.63s       | 98.5%            |"
      ]
     },
     "metadata": {},
     "output_type": "display_data"
    },
    {
     "data": {
      "text/html": [
       "<pre>| 4838             | 18.78s       | 100%             |</pre>"
      ],
      "text/plain": [
       "| 4838             | 18.78s       | 100%             |"
      ]
     },
     "metadata": {},
     "output_type": "display_data"
    },
    {
     "data": {
      "text/html": [
       "<pre>+------------------+--------------+------------------+</pre>"
      ],
      "text/plain": [
       "+------------------+--------------+------------------+"
      ]
     },
     "metadata": {},
     "output_type": "display_data"
    },
    {
     "name": "stdout",
     "output_type": "stream",
     "text": [
      "PROGRESS: Creating a validation set from 5 percent of training data. This may take a while.\n",
      "          You can set ``validation_set=None`` to disable validation tracking.\n",
      "\n"
     ]
    },
    {
     "data": {
      "text/html": [
       "<pre>Logistic regression:</pre>"
      ],
      "text/plain": [
       "Logistic regression:"
      ]
     },
     "metadata": {},
     "output_type": "display_data"
    },
    {
     "data": {
      "text/html": [
       "<pre>--------------------------------------------------------</pre>"
      ],
      "text/plain": [
       "--------------------------------------------------------"
      ]
     },
     "metadata": {},
     "output_type": "display_data"
    },
    {
     "data": {
      "text/html": [
       "<pre>Number of examples          : 4596</pre>"
      ],
      "text/plain": [
       "Number of examples          : 4596"
      ]
     },
     "metadata": {},
     "output_type": "display_data"
    },
    {
     "data": {
      "text/html": [
       "<pre>Number of classes           : 20</pre>"
      ],
      "text/plain": [
       "Number of classes           : 20"
      ]
     },
     "metadata": {},
     "output_type": "display_data"
    },
    {
     "data": {
      "text/html": [
       "<pre>Number of feature columns   : 1</pre>"
      ],
      "text/plain": [
       "Number of feature columns   : 1"
      ]
     },
     "metadata": {},
     "output_type": "display_data"
    },
    {
     "data": {
      "text/html": [
       "<pre>Number of unpacked features : 1000</pre>"
      ],
      "text/plain": [
       "Number of unpacked features : 1000"
      ]
     },
     "metadata": {},
     "output_type": "display_data"
    },
    {
     "data": {
      "text/html": [
       "<pre>Number of coefficients      : 19019</pre>"
      ],
      "text/plain": [
       "Number of coefficients      : 19019"
      ]
     },
     "metadata": {},
     "output_type": "display_data"
    },
    {
     "data": {
      "text/html": [
       "<pre>Starting L-BFGS</pre>"
      ],
      "text/plain": [
       "Starting L-BFGS"
      ]
     },
     "metadata": {},
     "output_type": "display_data"
    },
    {
     "data": {
      "text/html": [
       "<pre>--------------------------------------------------------</pre>"
      ],
      "text/plain": [
       "--------------------------------------------------------"
      ]
     },
     "metadata": {},
     "output_type": "display_data"
    },
    {
     "data": {
      "text/html": [
       "<pre>+-----------+----------+-----------+--------------+-------------------+---------------------+</pre>"
      ],
      "text/plain": [
       "+-----------+----------+-----------+--------------+-------------------+---------------------+"
      ]
     },
     "metadata": {},
     "output_type": "display_data"
    },
    {
     "data": {
      "text/html": [
       "<pre>| Iteration | Passes   | Step size | Elapsed Time | Training Accuracy | Validation Accuracy |</pre>"
      ],
      "text/plain": [
       "| Iteration | Passes   | Step size | Elapsed Time | Training Accuracy | Validation Accuracy |"
      ]
     },
     "metadata": {},
     "output_type": "display_data"
    },
    {
     "data": {
      "text/html": [
       "<pre>+-----------+----------+-----------+--------------+-------------------+---------------------+</pre>"
      ],
      "text/plain": [
       "+-----------+----------+-----------+--------------+-------------------+---------------------+"
      ]
     },
     "metadata": {},
     "output_type": "display_data"
    },
    {
     "data": {
      "text/html": [
       "<pre>| 0         | 4        | 0.250000  | 0.439834     | 0.084421          | 0.099174            |</pre>"
      ],
      "text/plain": [
       "| 0         | 4        | 0.250000  | 0.439834     | 0.084421          | 0.099174            |"
      ]
     },
     "metadata": {},
     "output_type": "display_data"
    },
    {
     "data": {
      "text/html": [
       "<pre>| 1         | 7        | 1.250000  | 0.901555     | 0.310487          | 0.322314            |</pre>"
      ],
      "text/plain": [
       "| 1         | 7        | 1.250000  | 0.901555     | 0.310487          | 0.322314            |"
      ]
     },
     "metadata": {},
     "output_type": "display_data"
    },
    {
     "data": {
      "text/html": [
       "<pre>| 2         | 8        | 1.250000  | 1.214219     | 0.142515          | 0.140496            |</pre>"
      ],
      "text/plain": [
       "| 2         | 8        | 1.250000  | 1.214219     | 0.142515          | 0.140496            |"
      ]
     },
     "metadata": {},
     "output_type": "display_data"
    },
    {
     "data": {
      "text/html": [
       "<pre>| 3         | 9        | 1.250000  | 1.621412     | 0.281767          | 0.239669            |</pre>"
      ],
      "text/plain": [
       "| 3         | 9        | 1.250000  | 1.621412     | 0.281767          | 0.239669            |"
      ]
     },
     "metadata": {},
     "output_type": "display_data"
    },
    {
     "data": {
      "text/html": [
       "<pre>| 4         | 10       | 1.250000  | 1.874907     | 0.320496          | 0.338843            |</pre>"
      ],
      "text/plain": [
       "| 4         | 10       | 1.250000  | 1.874907     | 0.320496          | 0.338843            |"
      ]
     },
     "metadata": {},
     "output_type": "display_data"
    },
    {
     "data": {
      "text/html": [
       "<pre>| 9         | 19       | 1.000000  | 3.490548     | 0.447563          | 0.433884            |</pre>"
      ],
      "text/plain": [
       "| 9         | 19       | 1.000000  | 3.490548     | 0.447563          | 0.433884            |"
      ]
     },
     "metadata": {},
     "output_type": "display_data"
    },
    {
     "data": {
      "text/html": [
       "<pre>| 19        | 42       | 0.863755  | 7.262188     | 0.577241          | 0.483471            |</pre>"
      ],
      "text/plain": [
       "| 19        | 42       | 0.863755  | 7.262188     | 0.577241          | 0.483471            |"
      ]
     },
     "metadata": {},
     "output_type": "display_data"
    },
    {
     "data": {
      "text/html": [
       "<pre>| 29        | 57       | 1.000000  | 10.016423    | 0.634900          | 0.533058            |</pre>"
      ],
      "text/plain": [
       "| 29        | 57       | 1.000000  | 10.016423    | 0.634900          | 0.533058            |"
      ]
     },
     "metadata": {},
     "output_type": "display_data"
    },
    {
     "data": {
      "text/html": [
       "<pre>| 39        | 73       | 0.797698  | 12.872652    | 0.683420          | 0.566116            |</pre>"
      ],
      "text/plain": [
       "| 39        | 73       | 0.797698  | 12.872652    | 0.683420          | 0.566116            |"
      ]
     },
     "metadata": {},
     "output_type": "display_data"
    },
    {
     "data": {
      "text/html": [
       "<pre>| 49        | 84       | 1.000000  | 15.367990    | 0.718233          | 0.599174            |</pre>"
      ],
      "text/plain": [
       "| 49        | 84       | 1.000000  | 15.367990    | 0.718233          | 0.599174            |"
      ]
     },
     "metadata": {},
     "output_type": "display_data"
    },
    {
     "data": {
      "text/html": [
       "<pre>| 59        | 100      | 1.000000  | 18.218707    | 0.736945          | 0.599174            |</pre>"
      ],
      "text/plain": [
       "| 59        | 100      | 1.000000  | 18.218707    | 0.736945          | 0.599174            |"
      ]
     },
     "metadata": {},
     "output_type": "display_data"
    }
   ],
   "source": [
    "# Train the image classifier\n",
    "model = tc.image_classifier.create(train_data, target=\"label\", \n",
    "                                   model=\"squeezenet_v1.1\",\n",
    "                                   verbose=True, max_iterations=100)"
   ]
  },
  {
   "cell_type": "code",
   "execution_count": null,
   "metadata": {},
   "outputs": [],
   "source": [
    "# OR load trained model from starter/notebook folder\n",
    "model = tc.load_model(\"MultiSnacks.model\")"
   ]
  },
  {
   "cell_type": "markdown",
   "metadata": {},
   "source": [
    "Continue with trained or loaded model."
   ]
  },
  {
   "cell_type": "code",
   "execution_count": null,
   "metadata": {},
   "outputs": [],
   "source": [
    "metrics = model.evaluate(test_data)\n",
    "print(\"Accuracy: \", metrics[\"accuracy\"])\n",
    "print(\"Precision: \", metrics[\"precision\"])\n",
    "print(\"Recall: \", metrics[\"recall\"])"
   ]
  }
 ],
 "metadata": {
  "kernelspec": {
   "display_name": "Python 3",
   "language": "python",
   "name": "python3"
  },
  "language_info": {
   "codemirror_mode": {
    "name": "ipython",
    "version": 3
   },
   "file_extension": ".py",
   "mimetype": "text/x-python",
   "name": "python",
   "nbconvert_exporter": "python",
   "pygments_lexer": "ipython3",
   "version": "3.6.13"
  }
 },
 "nbformat": 4,
 "nbformat_minor": 2
}
