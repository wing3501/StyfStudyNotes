{
 "cells": [
  {
   "cell_type": "code",
   "execution_count": 1,
   "metadata": {},
   "outputs": [],
   "source": [
    "import numpy as np\n",
    "import pandas as pd\n",
    "import matplotlib.pyplot as plt\n",
    "\n",
    "\n",
    "\n"
   ]
  },
  {
   "cell_type": "code",
   "execution_count": 2,
   "metadata": {},
   "outputs": [
    {
     "data": {
      "text/html": [
       "<div>\n",
       "<style scoped>\n",
       "    .dataframe tbody tr th:only-of-type {\n",
       "        vertical-align: middle;\n",
       "    }\n",
       "\n",
       "    .dataframe tbody tr th {\n",
       "        vertical-align: top;\n",
       "    }\n",
       "\n",
       "    .dataframe thead th {\n",
       "        text-align: right;\n",
       "    }\n",
       "</style>\n",
       "<table border=\"1\" class=\"dataframe\">\n",
       "  <thead>\n",
       "    <tr style=\"text-align: right;\">\n",
       "      <th></th>\n",
       "      <th>title</th>\n",
       "      <th>author</th>\n",
       "      <th>text</th>\n",
       "    </tr>\n",
       "  </thead>\n",
       "  <tbody>\n",
       "    <tr>\n",
       "      <th>0</th>\n",
       "      <td>When You Are Old</td>\n",
       "      <td>William Butler Yeats</td>\n",
       "      <td>When you are old and grey and full of sleep,\\n...</td>\n",
       "    </tr>\n",
       "    <tr>\n",
       "      <th>1</th>\n",
       "      <td>On being asked for a War Poem</td>\n",
       "      <td>William Butler Yeats</td>\n",
       "      <td>I think it better that in times like these\\nA ...</td>\n",
       "    </tr>\n",
       "    <tr>\n",
       "      <th>2</th>\n",
       "      <td>He Wishes For The Cloths Of Heaven</td>\n",
       "      <td>William Butler Yeats</td>\n",
       "      <td>Had I the heavens' embroidered cloths,\\nEnwrou...</td>\n",
       "    </tr>\n",
       "    <tr>\n",
       "      <th>3</th>\n",
       "      <td>He Wishes His Beloved Were Dead</td>\n",
       "      <td>William Butler Yeats</td>\n",
       "      <td>Were you but lying cold and dead,\\nAnd lights ...</td>\n",
       "    </tr>\n",
       "    <tr>\n",
       "      <th>4</th>\n",
       "      <td>A Drinking Song</td>\n",
       "      <td>William Butler Yeats</td>\n",
       "      <td>Wine comes in at the mouth\\nAnd love comes in ...</td>\n",
       "    </tr>\n",
       "  </tbody>\n",
       "</table>\n",
       "</div>"
      ],
      "text/plain": [
       "                                title                author  \\\n",
       "0                    When You Are Old  William Butler Yeats   \n",
       "1       On being asked for a War Poem  William Butler Yeats   \n",
       "2  He Wishes For The Cloths Of Heaven  William Butler Yeats   \n",
       "3     He Wishes His Beloved Were Dead  William Butler Yeats   \n",
       "4                     A Drinking Song  William Butler Yeats   \n",
       "\n",
       "                                                text  \n",
       "0  When you are old and grey and full of sleep,\\n...  \n",
       "1  I think it better that in times like these\\nA ...  \n",
       "2  Had I the heavens' embroidered cloths,\\nEnwrou...  \n",
       "3  Were you but lying cold and dead,\\nAnd lights ...  \n",
       "4  Wine comes in at the mouth\\nAnd love comes in ...  "
      ]
     },
     "execution_count": 2,
     "metadata": {},
     "output_type": "execute_result"
    }
   ],
   "source": [
    "data = pd.read_json('corpus.json', orient='records')\n",
    "data.head()"
   ]
  },
  {
   "cell_type": "code",
   "execution_count": 6,
   "metadata": {},
   "outputs": [
    {
     "data": {
      "text/html": [
       "<div>\n",
       "<style scoped>\n",
       "    .dataframe tbody tr th:only-of-type {\n",
       "        vertical-align: middle;\n",
       "    }\n",
       "\n",
       "    .dataframe tbody tr th {\n",
       "        vertical-align: top;\n",
       "    }\n",
       "\n",
       "    .dataframe thead th {\n",
       "        text-align: right;\n",
       "    }\n",
       "</style>\n",
       "<table border=\"1\" class=\"dataframe\">\n",
       "  <thead>\n",
       "    <tr style=\"text-align: right;\">\n",
       "      <th></th>\n",
       "      <th>title</th>\n",
       "      <th>author</th>\n",
       "      <th>text</th>\n",
       "    </tr>\n",
       "  </thead>\n",
       "  <tbody>\n",
       "    <tr>\n",
       "      <th>516</th>\n",
       "      <td>Serenade (For Music)</td>\n",
       "      <td>Oscar Wilde</td>\n",
       "      <td>The western wind is blowing fair\\nAcross the d...</td>\n",
       "    </tr>\n",
       "    <tr>\n",
       "      <th>517</th>\n",
       "      <td>Roses And Rue</td>\n",
       "      <td>Oscar Wilde</td>\n",
       "      <td>(To L. L.)\\n\\nCould we dig up this long-buried...</td>\n",
       "    </tr>\n",
       "    <tr>\n",
       "      <th>518</th>\n",
       "      <td>From Spring Days To Winter (For Music)</td>\n",
       "      <td>Oscar Wilde</td>\n",
       "      <td>In the glad springtime when leaves were green,...</td>\n",
       "    </tr>\n",
       "  </tbody>\n",
       "</table>\n",
       "</div>"
      ],
      "text/plain": [
       "                                      title       author  \\\n",
       "516                    Serenade (For Music)  Oscar Wilde   \n",
       "517                           Roses And Rue  Oscar Wilde   \n",
       "518  From Spring Days To Winter (For Music)  Oscar Wilde   \n",
       "\n",
       "                                                  text  \n",
       "516  The western wind is blowing fair\\nAcross the d...  \n",
       "517  (To L. L.)\\n\\nCould we dig up this long-buried...  \n",
       "518  In the glad springtime when leaves were green,...  "
      ]
     },
     "execution_count": 6,
     "metadata": {},
     "output_type": "execute_result"
    }
   ],
   "source": [
    "data.tail(3)"
   ]
  },
  {
   "cell_type": "code",
   "execution_count": null,
   "metadata": {},
   "outputs": [],
   "source": [
    "\n"
   ]
  }
 ],
 "metadata": {
  "kernelspec": {
   "display_name": "Python 3",
   "language": "python",
   "name": "python3"
  },
  "language_info": {
   "codemirror_mode": {
    "name": "ipython",
    "version": 3
   },
   "file_extension": ".py",
   "mimetype": "text/x-python",
   "name": "python",
   "nbconvert_exporter": "python",
   "pygments_lexer": "ipython3",
   "version": "3.6.13"
  }
 },
 "nbformat": 4,
 "nbformat_minor": 2
}
